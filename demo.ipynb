{
 "cells": [
  {
   "cell_type": "markdown",
   "metadata": {},
   "source": [
    "# Example Notebook"
   ]
  },
  {
   "cell_type": "markdown",
   "metadata": {},
   "source": [
    "**Simple Scripts**\n",
    "\n",
    "Youu can write simple scripts in Python and run them directly in the notebook."
   ]
  },
  {
   "cell_type": "code",
   "execution_count": 1,
   "metadata": {},
   "outputs": [
    {
     "name": "stdout",
     "output_type": "stream",
     "text": [
      "Hello, World!\n"
     ]
    }
   ],
   "source": [
    "print('Hello, World!')"
   ]
  },
  {
   "cell_type": "markdown",
   "metadata": {},
   "source": [
    "You can import external libraries (like Pandas) and use them in your scripts."
   ]
  },
  {
   "cell_type": "code",
   "execution_count": 2,
   "metadata": {},
   "outputs": [
    {
     "data": {
      "text/html": [
       "<div>\n",
       "<style scoped>\n",
       "    .dataframe tbody tr th:only-of-type {\n",
       "        vertical-align: middle;\n",
       "    }\n",
       "\n",
       "    .dataframe tbody tr th {\n",
       "        vertical-align: top;\n",
       "    }\n",
       "\n",
       "    .dataframe thead th {\n",
       "        text-align: right;\n",
       "    }\n",
       "</style>\n",
       "<table border=\"1\" class=\"dataframe\">\n",
       "  <thead>\n",
       "    <tr style=\"text-align: right;\">\n",
       "      <th></th>\n",
       "      <th>id</th>\n",
       "      <th>first_name</th>\n",
       "      <th>last_name</th>\n",
       "      <th>email</th>\n",
       "      <th>gender</th>\n",
       "      <th>ip_address</th>\n",
       "    </tr>\n",
       "  </thead>\n",
       "  <tbody>\n",
       "    <tr>\n",
       "      <th>0</th>\n",
       "      <td>1</td>\n",
       "      <td>Allys</td>\n",
       "      <td>Midlane</td>\n",
       "      <td>amidlane0@smh.com.au</td>\n",
       "      <td>Female</td>\n",
       "      <td>143.176.110.86</td>\n",
       "    </tr>\n",
       "    <tr>\n",
       "      <th>1</th>\n",
       "      <td>2</td>\n",
       "      <td>Wiatt</td>\n",
       "      <td>Marle</td>\n",
       "      <td>wmarle1@cyberchimps.com</td>\n",
       "      <td>Male</td>\n",
       "      <td>192.173.156.37</td>\n",
       "    </tr>\n",
       "    <tr>\n",
       "      <th>2</th>\n",
       "      <td>3</td>\n",
       "      <td>Aluino</td>\n",
       "      <td>Pallaske</td>\n",
       "      <td>apallaske2@vimeo.com</td>\n",
       "      <td>Agender</td>\n",
       "      <td>49.134.48.229</td>\n",
       "    </tr>\n",
       "    <tr>\n",
       "      <th>3</th>\n",
       "      <td>4</td>\n",
       "      <td>Korney</td>\n",
       "      <td>Cabel</td>\n",
       "      <td>kcabel3@hexun.com</td>\n",
       "      <td>Female</td>\n",
       "      <td>175.119.166.144</td>\n",
       "    </tr>\n",
       "    <tr>\n",
       "      <th>4</th>\n",
       "      <td>5</td>\n",
       "      <td>Raoul</td>\n",
       "      <td>Nugent</td>\n",
       "      <td>rnugent4@slashdot.org</td>\n",
       "      <td>Male</td>\n",
       "      <td>62.249.2.86</td>\n",
       "    </tr>\n",
       "    <tr>\n",
       "      <th>...</th>\n",
       "      <td>...</td>\n",
       "      <td>...</td>\n",
       "      <td>...</td>\n",
       "      <td>...</td>\n",
       "      <td>...</td>\n",
       "      <td>...</td>\n",
       "    </tr>\n",
       "    <tr>\n",
       "      <th>995</th>\n",
       "      <td>996</td>\n",
       "      <td>Merrick</td>\n",
       "      <td>Derbyshire</td>\n",
       "      <td>mderbyshirern@jimdo.com</td>\n",
       "      <td>Male</td>\n",
       "      <td>202.10.128.203</td>\n",
       "    </tr>\n",
       "    <tr>\n",
       "      <th>996</th>\n",
       "      <td>997</td>\n",
       "      <td>Erick</td>\n",
       "      <td>Beel</td>\n",
       "      <td>ebeelro@cdc.gov</td>\n",
       "      <td>Polygender</td>\n",
       "      <td>41.247.198.78</td>\n",
       "    </tr>\n",
       "    <tr>\n",
       "      <th>997</th>\n",
       "      <td>998</td>\n",
       "      <td>Marilyn</td>\n",
       "      <td>Lamzed</td>\n",
       "      <td>mlamzedrp@nasa.gov</td>\n",
       "      <td>Female</td>\n",
       "      <td>216.145.78.120</td>\n",
       "    </tr>\n",
       "    <tr>\n",
       "      <th>998</th>\n",
       "      <td>999</td>\n",
       "      <td>Cyndi</td>\n",
       "      <td>Stringer</td>\n",
       "      <td>cstringerrq@cargocollective.com</td>\n",
       "      <td>Female</td>\n",
       "      <td>57.213.254.188</td>\n",
       "    </tr>\n",
       "    <tr>\n",
       "      <th>999</th>\n",
       "      <td>1000</td>\n",
       "      <td>Ade</td>\n",
       "      <td>Maggi</td>\n",
       "      <td>amaggirr@bluehost.com</td>\n",
       "      <td>Male</td>\n",
       "      <td>68.205.86.178</td>\n",
       "    </tr>\n",
       "  </tbody>\n",
       "</table>\n",
       "<p>1000 rows × 6 columns</p>\n",
       "</div>"
      ],
      "text/plain": [
       "       id first_name   last_name                            email      gender  \\\n",
       "0       1      Allys     Midlane             amidlane0@smh.com.au      Female   \n",
       "1       2      Wiatt       Marle          wmarle1@cyberchimps.com        Male   \n",
       "2       3     Aluino    Pallaske             apallaske2@vimeo.com     Agender   \n",
       "3       4     Korney       Cabel                kcabel3@hexun.com      Female   \n",
       "4       5      Raoul      Nugent            rnugent4@slashdot.org        Male   \n",
       "..    ...        ...         ...                              ...         ...   \n",
       "995   996    Merrick  Derbyshire          mderbyshirern@jimdo.com        Male   \n",
       "996   997      Erick        Beel                  ebeelro@cdc.gov  Polygender   \n",
       "997   998    Marilyn      Lamzed               mlamzedrp@nasa.gov      Female   \n",
       "998   999      Cyndi    Stringer  cstringerrq@cargocollective.com      Female   \n",
       "999  1000        Ade       Maggi            amaggirr@bluehost.com        Male   \n",
       "\n",
       "          ip_address  \n",
       "0     143.176.110.86  \n",
       "1     192.173.156.37  \n",
       "2      49.134.48.229  \n",
       "3    175.119.166.144  \n",
       "4        62.249.2.86  \n",
       "..               ...  \n",
       "995   202.10.128.203  \n",
       "996    41.247.198.78  \n",
       "997   216.145.78.120  \n",
       "998   57.213.254.188  \n",
       "999    68.205.86.178  \n",
       "\n",
       "[1000 rows x 6 columns]"
      ]
     },
     "execution_count": 2,
     "metadata": {},
     "output_type": "execute_result"
    }
   ],
   "source": [
    "import pandas as pd\n",
    "df = pd.read_csv('example.csv')\n",
    "df"
   ]
  },
  {
   "cell_type": "markdown",
   "metadata": {},
   "source": [
    "You can use basic text formatting to make your document more readable.\n",
    "\n",
    "# Heading 1\n",
    "## Heading 2\n",
    "### Heading 3\n",
    "\n",
    "**bold text** \n",
    "\n",
    "*italicized text*\n",
    "\n",
    "`code block`\n",
    "\n",
    "[link](http://www.google.com)\n",
    "\n",
    "Bullet List\n",
    "* Item 1\n",
    "* Item 2\n",
    "* Item 3\n",
    "\n",
    "Numbered List\n",
    "1. Item 1\n",
    "1. Item 2\n",
    "1. Item 3"
   ]
  }
 ],
 "metadata": {
  "kernelspec": {
   "display_name": "Python 3.9.2 ('venv': venv)",
   "language": "python",
   "name": "python3"
  },
  "language_info": {
   "codemirror_mode": {
    "name": "ipython",
    "version": 3
   },
   "file_extension": ".py",
   "mimetype": "text/x-python",
   "name": "python",
   "nbconvert_exporter": "python",
   "pygments_lexer": "ipython3",
   "version": "3.9.2"
  },
  "orig_nbformat": 4,
  "vscode": {
   "interpreter": {
    "hash": "9247a765733c84cc7b8579ad4e9cf9b63b91ac6e07d8bb67f5c71f1cc827193b"
   }
  }
 },
 "nbformat": 4,
 "nbformat_minor": 2
}
